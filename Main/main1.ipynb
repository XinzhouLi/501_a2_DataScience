{
 "cells": [
  {
   "cell_type": "code",
   "execution_count": 5,
   "metadata": {},
   "outputs": [
    {
     "name": "stdout",
     "output_type": "stream",
     "text": [
      "    gender NationalITy PlaceofBirth       StageID GradeID SectionID  \\\n",
      "0        M          KW       KuwaIT    lowerlevel    G-04         A   \n",
      "1        M          KW       KuwaIT    lowerlevel    G-04         A   \n",
      "2        M          KW       KuwaIT    lowerlevel    G-04         A   \n",
      "3        M          KW       KuwaIT    lowerlevel    G-04         A   \n",
      "4        M          KW       KuwaIT    lowerlevel    G-04         A   \n",
      "..     ...         ...          ...           ...     ...       ...   \n",
      "495      M          KW       KuwaIT  MiddleSchool    G-07         A   \n",
      "496      M          KW       KuwaIT  MiddleSchool    G-07         B   \n",
      "497      F      Jordan       Jordan  MiddleSchool    G-08         A   \n",
      "498      M      Jordan       Jordan  MiddleSchool    G-08         A   \n",
      "499      M      Jordan       Jordan  MiddleSchool    G-08         A   \n",
      "\n",
      "         Topic Semester Relation  raisedhands  VisITedResources  \\\n",
      "0           IT        F   Father           15                16   \n",
      "1           IT        F   Father           20                20   \n",
      "2           IT        F   Father           10                 7   \n",
      "3           IT        F   Father           30                25   \n",
      "4           IT        F   Father           40                50   \n",
      "..         ...      ...      ...          ...               ...   \n",
      "495         IT        F   Father            4                 1   \n",
      "496         IT        F   Father            1                 3   \n",
      "497    Geology        S      Mum           81                80   \n",
      "498  Chemistry        F      Mum           77                76   \n",
      "499  Chemistry        S      Mum           83                86   \n",
      "\n",
      "     AnnouncementsView  Discussion ParentAnsweringSurvey  \\\n",
      "0                    2          20                   Yes   \n",
      "1                    3          25                   Yes   \n",
      "2                    0          30                    No   \n",
      "3                    5          35                    No   \n",
      "4                   12          50                    No   \n",
      "..                 ...         ...                   ...   \n",
      "495                  4          50                    No   \n",
      "496                  5          73                   Yes   \n",
      "497                 69          73                   Yes   \n",
      "498                 65          14                   Yes   \n",
      "499                 65          11                   Yes   \n",
      "\n",
      "    ParentschoolSatisfaction StudentAbsenceDays Class  Grade_level  \n",
      "0                       Good            Under-7     M            2  \n",
      "1                       Good            Under-7     M            2  \n",
      "2                        Bad            Above-7     L            1  \n",
      "3                        Bad            Above-7     L            1  \n",
      "4                        Bad            Above-7     M            2  \n",
      "..                       ...                ...   ...          ...  \n",
      "495                      Bad            Above-7     L            1  \n",
      "496                     Good            Above-7     L            1  \n",
      "497                     Good            Under-7     H            3  \n",
      "498                     Good            Above-7     M            2  \n",
      "499                     Good            Above-7     M            2  \n",
      "\n",
      "[500 rows x 18 columns]\n"
     ]
    }
   ],
   "source": [
    "import pandas as pd\n",
    "import numpy as np\n",
    "csv_readin = pd.read_csv('input_data1.csv')\n",
    "df = pd.DataFrame(csv_readin)\n",
    "df.to_csv('data.csv')"
   ]
  },
  {
   "cell_type": "code",
   "execution_count": null,
   "metadata": {},
   "outputs": [],
   "source": []
  }
 ],
 "metadata": {
  "kernelspec": {
   "display_name": "Python 3.9.12 ('base')",
   "language": "python",
   "name": "python3"
  },
  "language_info": {
   "codemirror_mode": {
    "name": "ipython",
    "version": 3
   },
   "file_extension": ".py",
   "mimetype": "text/x-python",
   "name": "python",
   "nbconvert_exporter": "python",
   "pygments_lexer": "ipython3",
   "version": "3.9.12"
  },
  "orig_nbformat": 4,
  "vscode": {
   "interpreter": {
    "hash": "a9f3b493fbaf4b13c10ef94bd7e0bd605ba65209a4f43c2a920298f08d4166b9"
   }
  }
 },
 "nbformat": 4,
 "nbformat_minor": 2
}

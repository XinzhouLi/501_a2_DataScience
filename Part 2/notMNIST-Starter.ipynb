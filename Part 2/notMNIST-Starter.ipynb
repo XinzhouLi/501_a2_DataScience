{
 "cells": [
  {
   "cell_type": "markdown",
   "id": "86336486-6935-4bf6-9c5b-b2c964a61e87",
   "metadata": {},
   "source": [
    "#Original Author: Jonathan Hudson\n",
    "#CPSC 501 F22"
   ]
  },
  {
   "cell_type": "code",
   "execution_count": 1,
   "id": "7b9bfed6-8429-453f-8f39-dce64688aaaa",
   "metadata": {},
   "outputs": [
    {
     "name": "stdout",
     "output_type": "stream",
     "text": [
      "--Get data--\n",
      "--Process data--\n"
     ]
    }
   ],
   "source": [
    "import tensorflow as tf\n",
    "import numpy as np\n",
    "\n",
    "tf.random.set_seed(1234)\n",
    "\n",
    "print(\"--Get data--\")\n",
    "with np.load(\"notMNIST.npz\", allow_pickle=True) as f:\n",
    "    x_train, y_train = f['x_train'], f['y_train']\n",
    "    x_test, y_test = f['x_test'], f['y_test']\n",
    "\n",
    "print(\"--Process data--\")\n",
    "x_train, x_test = x_train / 255.0, x_test / 255.0\n",
    "\n",
    "x_train = np.expand_dims(x_train, -1)\n",
    "x_test = np.expand_dims(x_test, -1)\n",
    "input_shape = (28, 28, 1)"
   ]
  },
  {
   "cell_type": "code",
   "execution_count": 4,
   "id": "e66f3a9a-202c-4734-82fc-e2fb378979ae",
   "metadata": {},
   "outputs": [
    {
     "name": "stdout",
     "output_type": "stream",
     "text": [
      "--Make model--\n",
      "--Fit model--\n",
      "Epoch 1/30\n",
      "1875/1875 [==============================] - 19s 7ms/step - loss: 0.5780 - accuracy: 0.8320\n",
      "Epoch 2/30\n",
      "1875/1875 [==============================] - 12s 6ms/step - loss: 0.4473 - accuracy: 0.8667\n",
      "Epoch 3/30\n",
      "1875/1875 [==============================] - 10s 5ms/step - loss: 0.3877 - accuracy: 0.8833\n",
      "Epoch 4/30\n",
      "1875/1875 [==============================] - 9s 5ms/step - loss: 0.3461 - accuracy: 0.8949\n",
      "Epoch 5/30\n",
      "1875/1875 [==============================] - 9s 5ms/step - loss: 0.3106 - accuracy: 0.9057\n",
      "Epoch 6/30\n",
      "1875/1875 [==============================] - 11s 6ms/step - loss: 0.2756 - accuracy: 0.9154\n",
      "Epoch 7/30\n",
      "1875/1875 [==============================] - 11s 6ms/step - loss: 0.2484 - accuracy: 0.9234\n",
      "Epoch 8/30\n",
      "1875/1875 [==============================] - 12s 7ms/step - loss: 0.2224 - accuracy: 0.9312\n",
      "Epoch 9/30\n",
      "1875/1875 [==============================] - 19s 10ms/step - loss: 0.1987 - accuracy: 0.9388\n",
      "Epoch 10/30\n",
      "1875/1875 [==============================] - 21s 11ms/step - loss: 0.1812 - accuracy: 0.9445\n",
      "Epoch 11/30\n",
      "1875/1875 [==============================] - 14s 8ms/step - loss: 0.1637 - accuracy: 0.9507\n",
      "Epoch 12/30\n",
      "1875/1875 [==============================] - 11s 6ms/step - loss: 0.1547 - accuracy: 0.9531\n",
      "Epoch 13/30\n",
      "1875/1875 [==============================] - 12s 6ms/step - loss: 0.1412 - accuracy: 0.9569\n",
      "Epoch 14/30\n",
      "1875/1875 [==============================] - 11s 6ms/step - loss: 0.1296 - accuracy: 0.9604\n",
      "Epoch 15/30\n",
      "1875/1875 [==============================] - 13s 7ms/step - loss: 0.1215 - accuracy: 0.9627\n",
      "Epoch 16/30\n",
      "1875/1875 [==============================] - 11s 6ms/step - loss: 0.1184 - accuracy: 0.9635\n",
      "Epoch 17/30\n",
      "1875/1875 [==============================] - 11s 6ms/step - loss: 0.1068 - accuracy: 0.9678\n",
      "Epoch 18/30\n",
      "1875/1875 [==============================] - 11s 6ms/step - loss: 0.1058 - accuracy: 0.9682\n",
      "Epoch 19/30\n",
      "1875/1875 [==============================] - 11s 6ms/step - loss: 0.1000 - accuracy: 0.9705\n",
      "Epoch 20/30\n",
      "1875/1875 [==============================] - 11s 6ms/step - loss: 0.0992 - accuracy: 0.9712\n",
      "Epoch 21/30\n",
      "1875/1875 [==============================] - 11s 6ms/step - loss: 0.0892 - accuracy: 0.9736\n",
      "Epoch 22/30\n",
      "1875/1875 [==============================] - 13s 7ms/step - loss: 0.0909 - accuracy: 0.9730\n",
      "Epoch 23/30\n",
      "1875/1875 [==============================] - 9s 5ms/step - loss: 0.0851 - accuracy: 0.9750\n",
      "Epoch 24/30\n",
      "1875/1875 [==============================] - 9s 5ms/step - loss: 0.0845 - accuracy: 0.9754\n",
      "Epoch 25/30\n",
      "1875/1875 [==============================] - 12s 7ms/step - loss: 0.0799 - accuracy: 0.9762\n",
      "Epoch 26/30\n",
      "1875/1875 [==============================] - 11s 6ms/step - loss: 0.0797 - accuracy: 0.9763\n",
      "Epoch 27/30\n",
      "1875/1875 [==============================] - 11s 6ms/step - loss: 0.0774 - accuracy: 0.9771\n",
      "Epoch 28/30\n",
      "1875/1875 [==============================] - 11s 6ms/step - loss: 0.0735 - accuracy: 0.9781\n",
      "Epoch 29/30\n",
      "1875/1875 [==============================] - 11s 6ms/step - loss: 0.0742 - accuracy: 0.9782\n",
      "Epoch 30/30\n",
      "1875/1875 [==============================] - 11s 6ms/step - loss: 0.0692 - accuracy: 0.9793\n"
     ]
    },
    {
     "data": {
      "text/plain": [
       "<keras.callbacks.History at 0x7fbd0e2fd400>"
      ]
     },
     "execution_count": 4,
     "metadata": {},
     "output_type": "execute_result"
    }
   ],
   "source": [
    "print(\"--Make model--\")\n",
    "model = tf.keras.models.Sequential()           \n",
    "model.add(tf.keras.layers.Flatten())\n",
    "model.add(tf.keras.layers.Dense(512, activation = \"relu\", use_bias= True))\n",
    "model.add(tf.keras.layers.Dense(10, activation='softmax'))\n",
    "model.compile(optimizer=tf.keras.optimizers.Adam(learning_rate=0.001), loss='sparse_categorical_crossentropy', metrics=['accuracy'])\n",
    "\n",
    "print(\"--Fit model--\")\n",
    "model.fit(x_train, y_train, epochs=30, verbose=1)"
   ]
  },
  {
   "cell_type": "code",
   "execution_count": 6,
   "id": "d1e873e6-956a-4471-a9b2-61e9421aab01",
   "metadata": {},
   "outputs": [
    {
     "name": "stdout",
     "output_type": "stream",
     "text": [
      "--Evaluate model--\n",
      "1875/1875 - 5s - loss: 0.0520 - accuracy: 0.9847 - 5s/epoch - 3ms/step\n",
      "313/313 - 2s - loss: 0.4755 - accuracy: 0.9379 - 2s/epoch - 6ms/step\n",
      "Train / Test Accuracy: 98.5% / 93.8%\n"
     ]
    }
   ],
   "source": [
    "print(\"--Evaluate model--\")\n",
    "model_loss1, model_acc1 = model.evaluate(x_train,  y_train, verbose=2)\n",
    "model_loss2, model_acc2 = model.evaluate(x_test,  y_test, verbose=2)\n",
    "print(f\"Train / Test Accuracy: {model_acc1*100:.1f}% / {model_acc2*100:.1f}%\")\n",
    "model.save('notMINST5.h5')"
   ]
  }
 ],
 "metadata": {
  "kernelspec": {
   "display_name": "Python 3.9.12 ('base')",
   "language": "python",
   "name": "python3"
  },
  "language_info": {
   "codemirror_mode": {
    "name": "ipython",
    "version": 3
   },
   "file_extension": ".py",
   "mimetype": "text/x-python",
   "name": "python",
   "nbconvert_exporter": "python",
   "pygments_lexer": "ipython3",
   "version": "3.9.12"
  },
  "vscode": {
   "interpreter": {
    "hash": "a9f3b493fbaf4b13c10ef94bd7e0bd605ba65209a4f43c2a920298f08d4166b9"
   }
  }
 },
 "nbformat": 4,
 "nbformat_minor": 5
}

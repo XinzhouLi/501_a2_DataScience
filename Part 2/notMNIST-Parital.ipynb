{
 "cells": [
  {
   "cell_type": "markdown",
   "id": "86336486-6935-4bf6-9c5b-b2c964a61e87",
   "metadata": {},
   "source": [
    "#Original Author: Jonathan Hudson\n",
    "#CPSC 501 F22"
   ]
  },
  {
   "cell_type": "code",
   "execution_count": 1,
   "id": "7b9bfed6-8429-453f-8f39-dce64688aaaa",
   "metadata": {},
   "outputs": [
    {
     "name": "stdout",
     "output_type": "stream",
     "text": [
      "--Get data--\n",
      "--Process data--\n"
     ]
    }
   ],
   "source": [
    "import tensorflow as tf\n",
    "import numpy as np\n",
    "\n",
    "tf.random.set_seed(1234)\n",
    "\n",
    "print(\"--Get data--\")\n",
    "with np.load(\"notMNIST.npz\", allow_pickle=True) as f:\n",
    "    x_train, y_train = f['x_train'], f['y_train']\n",
    "    x_test, y_test = f['x_test'], f['y_test']\n",
    "\n",
    "print(\"--Process data--\")\n",
    "x_train, x_test = x_train / 255.0, x_test / 255.0\n",
    "\n",
    "x_train = np.expand_dims(x_train, -1)\n",
    "x_test = np.expand_dims(x_test, -1)\n",
    "input_shape = (28, 28, 1)"
   ]
  },
  {
   "cell_type": "code",
   "execution_count": 3,
   "id": "e66f3a9a-202c-4734-82fc-e2fb378979ae",
   "metadata": {},
   "outputs": [
    {
     "name": "stdout",
     "output_type": "stream",
     "text": [
      "--Make model--\n",
      "--Fit model--\n",
      "Epoch 1/30\n",
      "1875/1875 [==============================] - 8s 4ms/step - loss: 0.5715 - accuracy: 0.8337\n",
      "Epoch 2/30\n",
      "1875/1875 [==============================] - 6s 3ms/step - loss: 0.4414 - accuracy: 0.8692\n",
      "Epoch 3/30\n",
      "1875/1875 [==============================] - 6s 3ms/step - loss: 0.3865 - accuracy: 0.8839\n",
      "Epoch 4/30\n",
      "1875/1875 [==============================] - 6s 3ms/step - loss: 0.3465 - accuracy: 0.8953\n",
      "Epoch 5/30\n",
      "1875/1875 [==============================] - 6s 3ms/step - loss: 0.3123 - accuracy: 0.9051\n",
      "Epoch 6/30\n",
      "1875/1875 [==============================] - 6s 3ms/step - loss: 0.2767 - accuracy: 0.9147\n",
      "Epoch 7/30\n",
      "1875/1875 [==============================] - 6s 3ms/step - loss: 0.2463 - accuracy: 0.9233\n",
      "Epoch 8/30\n",
      "1875/1875 [==============================] - 6s 3ms/step - loss: 0.2208 - accuracy: 0.9315\n",
      "Epoch 9/30\n",
      "1875/1875 [==============================] - 6s 3ms/step - loss: 0.2002 - accuracy: 0.9380\n",
      "Epoch 10/30\n",
      "1875/1875 [==============================] - 6s 3ms/step - loss: 0.1809 - accuracy: 0.9441\n",
      "Epoch 11/30\n",
      "1875/1875 [==============================] - 6s 3ms/step - loss: 0.1672 - accuracy: 0.9492\n",
      "Epoch 12/30\n",
      "1875/1875 [==============================] - 6s 3ms/step - loss: 0.1515 - accuracy: 0.9536\n",
      "Epoch 13/30\n",
      "1875/1875 [==============================] - 6s 3ms/step - loss: 0.1389 - accuracy: 0.9575\n",
      "Epoch 14/30\n",
      "1875/1875 [==============================] - 6s 3ms/step - loss: 0.1315 - accuracy: 0.9594\n",
      "Epoch 15/30\n",
      "1875/1875 [==============================] - 6s 3ms/step - loss: 0.1207 - accuracy: 0.9631\n",
      "Epoch 16/30\n",
      "1875/1875 [==============================] - 6s 3ms/step - loss: 0.1191 - accuracy: 0.9644\n",
      "Epoch 17/30\n",
      "1875/1875 [==============================] - 6s 3ms/step - loss: 0.1122 - accuracy: 0.9672\n",
      "Epoch 18/30\n",
      "1875/1875 [==============================] - 6s 3ms/step - loss: 0.1049 - accuracy: 0.9680\n",
      "Epoch 19/30\n",
      "1875/1875 [==============================] - 6s 3ms/step - loss: 0.0983 - accuracy: 0.9704\n",
      "Epoch 20/30\n",
      "1875/1875 [==============================] - 6s 3ms/step - loss: 0.1003 - accuracy: 0.9696\n",
      "Epoch 21/30\n",
      "1875/1875 [==============================] - 6s 3ms/step - loss: 0.0899 - accuracy: 0.9725\n",
      "Epoch 22/30\n",
      "1875/1875 [==============================] - 6s 3ms/step - loss: 0.0879 - accuracy: 0.9735\n",
      "Epoch 23/30\n",
      "1875/1875 [==============================] - 6s 3ms/step - loss: 0.0876 - accuracy: 0.9740\n",
      "Epoch 24/30\n",
      "1875/1875 [==============================] - 6s 3ms/step - loss: 0.0845 - accuracy: 0.9746\n",
      "Epoch 25/30\n",
      "1875/1875 [==============================] - 7s 3ms/step - loss: 0.0848 - accuracy: 0.9741\n",
      "Epoch 26/30\n",
      "1875/1875 [==============================] - 8s 4ms/step - loss: 0.0799 - accuracy: 0.9767\n",
      "Epoch 27/30\n",
      "1875/1875 [==============================] - 8s 4ms/step - loss: 0.0750 - accuracy: 0.9781\n",
      "Epoch 28/30\n",
      "1875/1875 [==============================] - 8s 4ms/step - loss: 0.0770 - accuracy: 0.9780\n",
      "Epoch 29/30\n",
      "1875/1875 [==============================] - 7s 4ms/step - loss: 0.0713 - accuracy: 0.9789\n",
      "Epoch 30/30\n",
      "1875/1875 [==============================] - 7s 4ms/step - loss: 0.0677 - accuracy: 0.9801\n"
     ]
    },
    {
     "data": {
      "text/plain": [
       "<keras.callbacks.History at 0x1dcca9066a0>"
      ]
     },
     "execution_count": 3,
     "metadata": {},
     "output_type": "execute_result"
    }
   ],
   "source": [
    "print(\"--Make model--\")\n",
    "model = tf.keras.models.Sequential()\n",
    "model.add(tf.keras.layers.Flatten())\n",
    "model.add(tf.keras.layers.Dense(512, activation = \"relu\", use_bias= True))\n",
    "model.add(tf.keras.layers.Dense(10, activation='softmax'))\n",
    "model.compile(optimizer=tf.keras.optimizers.Adam(learning_rate=0.001), loss='sparse_categorical_crossentropy', metrics=['accuracy'])\n",
    "\n",
    "print(\"--Fit model--\")\n",
    "model.fit(x_train, y_train, epochs=30, verbose=1)"
   ]
  },
  {
   "cell_type": "code",
   "execution_count": null,
   "id": "d1e873e6-956a-4471-a9b2-61e9421aab01",
   "metadata": {},
   "outputs": [
    {
     "name": "stdout",
     "output_type": "stream",
     "text": [
      "--Evaluate model--\n",
      "1875/1875 - 18s - loss: 0.0268 - accuracy: 0.9931 - 18s/epoch - 10ms/step\n",
      "313/313 - 3s - loss: 0.2518 - accuracy: 0.9532 - 3s/epoch - 11ms/step\n",
      "Train / Test Accuracy: 99.3% / 95.3%\n"
     ]
    }
   ],
   "source": [
    "print(\"--Evaluate model--\")\n",
    "model_loss1, model_acc1 = model.evaluate(x_train,  y_train, verbose=2)\n",
    "model_loss2, model_acc2 = model.evaluate(x_test,  y_test, verbose=2)\n",
    "print(f\"Train / Test Accuracy: {model_acc1*100:.1f}% / {model_acc2*100:.1f}%\")\n",
    "model.save('notMNIST_Partial.h5')"
   ]
  }
 ],
 "metadata": {
  "kernelspec": {
   "display_name": "Python 3.9.12 ('base')",
   "language": "python",
   "name": "python3"
  },
  "language_info": {
   "codemirror_mode": {
    "name": "ipython",
    "version": 3
   },
   "file_extension": ".py",
   "mimetype": "text/x-python",
   "name": "python",
   "nbconvert_exporter": "python",
   "pygments_lexer": "ipython3",
   "version": "3.9.12"
  },
  "vscode": {
   "interpreter": {
    "hash": "b09ec625f77bf4fd762565a912b97636504ad6ec901eb2d0f4cf5a7de23e1ee5"
   }
  }
 },
 "nbformat": 4,
 "nbformat_minor": 5
}
